{
 "cells": [
  {
   "cell_type": "code",
   "execution_count": null,
   "metadata": {
    "collapsed": true
   },
   "outputs": [],
   "source": [
    ""
   ]
  },
  {
   "cell_type": "code",
   "execution_count": 6,
   "metadata": {
    "collapsed": false
   },
   "outputs": [
    {
     "name": "stdout",
     "output_type": "stream",
     "text": [
      "good\n"
     ]
    }
   ],
   "source": [
    "import requests\n",
    "from openpyxl import Workbook\n",
    " \n",
    "def get_json(url, page, lang_name):\n",
    "    data = {'first': 'true', 'pn': page, 'kd': lang_name}\n",
    "    json = requests.post(url, data).json()\n",
    "    list_con = json['content']['positionResult']['result']\n",
    "    info_list = []\n",
    "    \n",
    "    for i in list_con:\n",
    "#         print(i)\n",
    "        info = []\n",
    "        info.append(i['companyShortName'])\n",
    "        info.append(i['companyFullName'])\n",
    "#         info.append(i['companyName'])\n",
    "        info.append(i['salary'])\n",
    "        info.append(i['city'])\n",
    "        info.append(i['education'])\n",
    "        info_list.append(info)\n",
    "    return info_list\n",
    " \n",
    " \n",
    "def main():\n",
    "#     lang_name = input('职位名：')\n",
    "    lang_name = 'python'\n",
    "    page = 1\n",
    "    url = 'http://www.lagou.com/jobs/positionAjax.json?needAddtionalResult=false'\n",
    "    info_result = []\n",
    "    while page < 31:\n",
    "        info = get_json(url, page, lang_name)\n",
    "        info_result = info_result + info\n",
    "        page += 1\n",
    "    wb = Workbook()\n",
    "    ws1 = wb.active\n",
    "    ws1.title = lang_name\n",
    "    for row in info_result:\n",
    "        ws1.append(row)\n",
    "    wb.save('职位信息.xlsx')\n",
    " \n",
    "if __name__ == '__main__':\n",
    "    main()\n",
    "    print('good')"
   ]
  },
  {
   "cell_type": "code",
   "execution_count": null,
   "metadata": {
    "collapsed": true
   },
   "outputs": [],
   "source": [
    ""
   ]
  }
 ],
 "metadata": {
  "kernelspec": {
   "display_name": "Python 3",
   "language": "python",
   "name": "python3"
  },
  "language_info": {
   "codemirror_mode": {
    "name": "ipython",
    "version": 3.0
   },
   "file_extension": ".py",
   "mimetype": "text/x-python",
   "name": "python",
   "nbconvert_exporter": "python",
   "pygments_lexer": "ipython3",
   "version": "3.5.1"
  }
 },
 "nbformat": 4,
 "nbformat_minor": 0
}